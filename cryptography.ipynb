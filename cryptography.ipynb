{
  "nbformat": 4,
  "nbformat_minor": 0,
  "metadata": {
    "colab": {
      "provenance": []
    },
    "kernelspec": {
      "name": "python3",
      "display_name": "Python 3"
    },
    "language_info": {
      "name": "python"
    }
  },
  "cells": [
    {
      "cell_type": "code",
      "execution_count": null,
      "metadata": {
        "id": "frDlZAJn2LUd"
      },
      "outputs": [],
      "source": [
        "from cryptography.fernet import Fernet\n",
        "import json"
      ]
    },
    {
      "cell_type": "markdown",
      "source": [
        "#### User control"
      ],
      "metadata": {
        "id": "jo3mtlM77w20"
      }
    },
    {
      "cell_type": "code",
      "source": [
        "def read_write_json(data: dict = None, filename=\"credentials.json\") -> dict:\n",
        "    if data is None:\n",
        "        with open(filename, 'r') as f:\n",
        "            data = json.load(f)\n",
        "    else:\n",
        "        with open(filename, 'w') as f:\n",
        "            json.dump(data, f, indent=4)\n",
        "    return data"
      ],
      "metadata": {
        "id": "81V8-xDp4yeh"
      },
      "execution_count": null,
      "outputs": []
    },
    {
      "cell_type": "code",
      "source": [
        "def create_user(login, password):\n",
        "  data = read_write_json()\n",
        "  if login in data:\n",
        "    return \"User already exists.\"\n",
        "  else:\n",
        "    data[login] = password\n",
        "    read_write_json(data)\n",
        "  return \"User created successfully.\"\n"
      ],
      "metadata": {
        "id": "FtGgXwqv3LIF"
      },
      "execution_count": null,
      "outputs": []
    },
    {
      "cell_type": "code",
      "source": [
        "def user_login(login, password):\n",
        "  data = read_write_json()\n",
        "  if not login in data:\n",
        "    return \"User does not exists.\"\n",
        "  if data[login] != password:\n",
        "    return \"Wrong password.\"\n",
        "  return True"
      ],
      "metadata": {
        "id": "Hie5EOq-7SsF"
      },
      "execution_count": null,
      "outputs": []
    },
    {
      "cell_type": "markdown",
      "source": [
        "#### Cryptography"
      ],
      "metadata": {
        "id": "UVZi2VYJ7zxz"
      }
    },
    {
      "cell_type": "code",
      "source": [
        "def generate_key():\n",
        "  return Fernet.generate_key()\n",
        "\n",
        "def encrypt(message: bytes, key: bytes) -> bytes:\n",
        "    return Fernet(key).encrypt(message)\n",
        "\n",
        "def decrypt(token: bytes, key: bytes) -> bytes:\n",
        "    return Fernet(key).decrypt(token)"
      ],
      "metadata": {
        "id": "yVvdZXG-80rj"
      },
      "execution_count": null,
      "outputs": []
    },
    {
      "cell_type": "code",
      "source": [
        "def decrypt_middleware(message: str, key: bytes):\n",
        "  decrypt_msg = decrypt(message, key)\n",
        "  return json.loads(decrypt_msg.decode())\n",
        "\n",
        "def encrypt_middleware(message: dict, key: bytes):\n",
        "  message_str = json.dumps(message)\n",
        "  return encrypt(message_str.encode(), key)"
      ],
      "metadata": {
        "id": "NMMLeExg8PXf"
      },
      "execution_count": null,
      "outputs": []
    },
    {
      "cell_type": "code",
      "source": [
        "# client\n",
        "def client_example(message: dict):\n",
        "  # criar usuario \"command\": \"create user login password\"\n",
        "  msg_string = json.dumps(message)\n",
        "  key = generate_key()\n",
        "  msg_enc = encrypt(msg_string.encode(), key)\n",
        "  return msg_enc, key\n",
        "\n",
        "# server\n",
        "def server_example(client_message, key):\n",
        "  result = decrypt_middleware(client_message, key)\n",
        "  # check create login\n",
        "  if result[\"command\"].startswith('create user'):\n",
        "    splitted_cmd = result[\"command\"].split()\n",
        "    login = splitted_cmd[2]\n",
        "    password = splitted_cmd[3]\n",
        "    create = create_user(login, password)\n",
        "    return encrypt_middleware({'result': create}, key)\n",
        "\n",
        "  login = user_login(result['login'], result['password'])\n",
        "  if login != True:\n",
        "    return encrypt_middleware({'result': login}, key)\n",
        "  command = result['command']\n",
        "  # executa comando passando 'state' e 'ledname', salva em variavel 'exec_result'\n",
        "  exec_result = 'exemplo'\n",
        "  return encrypt_middleware({'result': exec_result}, key)"
      ],
      "metadata": {
        "id": "3mrz9rHx9hyl"
      },
      "execution_count": null,
      "outputs": []
    },
    {
      "cell_type": "code",
      "source": [
        "client_message, key = client_example({\"login\":\"elton\", \"password\":\"senha\", \"command\": \"RED 1\"})\n",
        "server_example(client_message, key)"
      ],
      "metadata": {
        "colab": {
          "base_uri": "https://localhost:8080/"
        },
        "id": "z28IV_nTDCQ4",
        "outputId": "57a7dc8e-1c83-48c6-d0ad-19b39cc70462"
      },
      "execution_count": null,
      "outputs": [
        {
          "output_type": "execute_result",
          "data": {
            "text/plain": [
              "b'gAAAAABkiLrpm_xvveOXwB50JhDquV-gaoaYerfv3DaTXYWkTs2BbMw8CMiTHhz3Gn50z5W34XtrVWpxSkXJkmz2ndb58OYWqiZq4ctrNHufFMMtmBTYbChQn4whYlS8Z7M8A_Z7S2h-'"
            ]
          },
          "metadata": {},
          "execution_count": 64
        }
      ]
    }
  ]
}